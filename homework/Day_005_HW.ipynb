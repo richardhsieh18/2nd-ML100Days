{
 "cells": [
  {
   "cell_type": "code",
   "execution_count": 1,
   "metadata": {},
   "outputs": [],
   "source": [
    "# Import 需要的套件\n",
    "import os\n",
    "import numpy as np\n",
    "import pandas as pd\n",
    "\n",
    "# 設定 data_path\n",
    "dir_data = '../data/'"
   ]
  },
  {
   "cell_type": "code",
   "execution_count": 2,
   "metadata": {},
   "outputs": [],
   "source": [
    "f_app_train = os.path.join(dir_data, 'application_train.csv')\n",
    "app_train = pd.read_csv(f_app_train)"
   ]
  },
  {
   "cell_type": "code",
   "execution_count": 3,
   "metadata": {},
   "outputs": [],
   "source": [
    "import matplotlib.pyplot as plt\n",
    "%matplotlib inline"
   ]
  },
  {
   "cell_type": "markdown",
   "metadata": {},
   "source": [
    "## 練習時間"
   ]
  },
  {
   "cell_type": "markdown",
   "metadata": {},
   "source": [
    "觀察有興趣的欄位的資料分佈，並嘗試找出有趣的訊息\n",
    "#### Eg\n",
    "- 計算任意欄位的平均數及標準差\n",
    "- 畫出任意欄位的[直方圖](https://zh.wikipedia.org/zh-tw/%E7%9B%B4%E6%96%B9%E5%9B%BE)\n",
    "\n",
    "### Hints:\n",
    "- [Descriptive Statistics For pandas Dataframe](https://chrisalbon.com/python/data_wrangling/pandas_dataframe_descriptive_stats/)\n",
    "- [pandas 中的繪圖函數](https://amaozhao.gitbooks.io/pandas-notebook/content/pandas%E4%B8%AD%E7%9A%84%E7%BB%98%E5%9B%BE%E5%87%BD%E6%95%B0.html)\n"
   ]
  },
  {
   "cell_type": "code",
   "execution_count": 4,
   "metadata": {},
   "outputs": [
    {
     "data": {
      "text/plain": [
       "float64    65\n",
       "int64      41\n",
       "object     16\n",
       "dtype: int64"
      ]
     },
     "execution_count": 4,
     "metadata": {},
     "output_type": "execute_result"
    }
   ],
   "source": [
    "app_train.dtypes.value_counts()"
   ]
  },
  {
   "cell_type": "code",
   "execution_count": 5,
   "metadata": {},
   "outputs": [
    {
     "data": {
      "text/plain": [
       "AMT_INCOME_TOTAL                  2548\n",
       "AMT_CREDIT                        5603\n",
       "AMT_ANNUITY                      13672\n",
       "AMT_GOODS_PRICE                   1002\n",
       "REGION_POPULATION_RELATIVE          81\n",
       "DAYS_REGISTRATION                15688\n",
       "OWN_CAR_AGE                         62\n",
       "CNT_FAM_MEMBERS                     17\n",
       "EXT_SOURCE_1                    114584\n",
       "EXT_SOURCE_2                    119831\n",
       "EXT_SOURCE_3                       814\n",
       "APARTMENTS_AVG                    2339\n",
       "BASEMENTAREA_AVG                  3780\n",
       "YEARS_BEGINEXPLUATATION_AVG        285\n",
       "YEARS_BUILD_AVG                    149\n",
       "COMMONAREA_AVG                    3181\n",
       "ELEVATORS_AVG                      257\n",
       "ENTRANCES_AVG                      285\n",
       "FLOORSMAX_AVG                      403\n",
       "FLOORSMIN_AVG                      305\n",
       "LANDAREA_AVG                      3527\n",
       "LIVINGAPARTMENTS_AVG              1868\n",
       "LIVINGAREA_AVG                    5199\n",
       "NONLIVINGAPARTMENTS_AVG            386\n",
       "NONLIVINGAREA_AVG                 3290\n",
       "APARTMENTS_MODE                    760\n",
       "BASEMENTAREA_MODE                 3841\n",
       "YEARS_BEGINEXPLUATATION_MODE       221\n",
       "YEARS_BUILD_MODE                   154\n",
       "COMMONAREA_MODE                   3128\n",
       "                                 ...  \n",
       "LIVINGAPARTMENTS_MODE              736\n",
       "LIVINGAREA_MODE                   5301\n",
       "NONLIVINGAPARTMENTS_MODE           167\n",
       "NONLIVINGAREA_MODE                3327\n",
       "APARTMENTS_MEDI                   1148\n",
       "BASEMENTAREA_MEDI                 3772\n",
       "YEARS_BEGINEXPLUATATION_MEDI       245\n",
       "YEARS_BUILD_MEDI                   151\n",
       "COMMONAREA_MEDI                   3202\n",
       "ELEVATORS_MEDI                      46\n",
       "ENTRANCES_MEDI                      46\n",
       "FLOORSMAX_MEDI                      49\n",
       "FLOORSMIN_MEDI                      47\n",
       "LANDAREA_MEDI                     3560\n",
       "LIVINGAPARTMENTS_MEDI             1097\n",
       "LIVINGAREA_MEDI                   5281\n",
       "NONLIVINGAPARTMENTS_MEDI           214\n",
       "NONLIVINGAREA_MEDI                3323\n",
       "TOTALAREA_MODE                    5116\n",
       "OBS_30_CNT_SOCIAL_CIRCLE            33\n",
       "DEF_30_CNT_SOCIAL_CIRCLE            10\n",
       "OBS_60_CNT_SOCIAL_CIRCLE            33\n",
       "DEF_60_CNT_SOCIAL_CIRCLE             9\n",
       "DAYS_LAST_PHONE_CHANGE            3773\n",
       "AMT_REQ_CREDIT_BUREAU_HOUR           5\n",
       "AMT_REQ_CREDIT_BUREAU_DAY            9\n",
       "AMT_REQ_CREDIT_BUREAU_WEEK           9\n",
       "AMT_REQ_CREDIT_BUREAU_MON           24\n",
       "AMT_REQ_CREDIT_BUREAU_QRT           11\n",
       "AMT_REQ_CREDIT_BUREAU_YEAR          25\n",
       "Length: 65, dtype: int64"
      ]
     },
     "execution_count": 5,
     "metadata": {},
     "output_type": "execute_result"
    }
   ],
   "source": [
    "#看要秀哪一種資料\n",
    "app_train.select_dtypes(include=['float64']).apply(pd.Series.nunique, axis = 0)"
   ]
  },
  {
   "cell_type": "code",
   "execution_count": 16,
   "metadata": {},
   "outputs": [
    {
     "data": {
      "text/html": [
       "<div>\n",
       "<style scoped>\n",
       "    .dataframe tbody tr th:only-of-type {\n",
       "        vertical-align: middle;\n",
       "    }\n",
       "\n",
       "    .dataframe tbody tr th {\n",
       "        vertical-align: top;\n",
       "    }\n",
       "\n",
       "    .dataframe thead th {\n",
       "        text-align: right;\n",
       "    }\n",
       "</style>\n",
       "<table border=\"1\" class=\"dataframe\">\n",
       "  <thead>\n",
       "    <tr style=\"text-align: right;\">\n",
       "      <th></th>\n",
       "      <th>AMT_INCOME_TOTAL</th>\n",
       "    </tr>\n",
       "  </thead>\n",
       "  <tbody>\n",
       "    <tr>\n",
       "      <th>0</th>\n",
       "      <td>202500.0</td>\n",
       "    </tr>\n",
       "    <tr>\n",
       "      <th>1</th>\n",
       "      <td>270000.0</td>\n",
       "    </tr>\n",
       "    <tr>\n",
       "      <th>2</th>\n",
       "      <td>67500.0</td>\n",
       "    </tr>\n",
       "    <tr>\n",
       "      <th>3</th>\n",
       "      <td>135000.0</td>\n",
       "    </tr>\n",
       "    <tr>\n",
       "      <th>4</th>\n",
       "      <td>121500.0</td>\n",
       "    </tr>\n",
       "    <tr>\n",
       "      <th>5</th>\n",
       "      <td>99000.0</td>\n",
       "    </tr>\n",
       "    <tr>\n",
       "      <th>6</th>\n",
       "      <td>171000.0</td>\n",
       "    </tr>\n",
       "    <tr>\n",
       "      <th>7</th>\n",
       "      <td>360000.0</td>\n",
       "    </tr>\n",
       "    <tr>\n",
       "      <th>8</th>\n",
       "      <td>112500.0</td>\n",
       "    </tr>\n",
       "    <tr>\n",
       "      <th>9</th>\n",
       "      <td>135000.0</td>\n",
       "    </tr>\n",
       "  </tbody>\n",
       "</table>\n",
       "</div>"
      ],
      "text/plain": [
       "   AMT_INCOME_TOTAL\n",
       "0          202500.0\n",
       "1          270000.0\n",
       "2           67500.0\n",
       "3          135000.0\n",
       "4          121500.0\n",
       "5           99000.0\n",
       "6          171000.0\n",
       "7          360000.0\n",
       "8          112500.0\n",
       "9          135000.0"
      ]
     },
     "execution_count": 16,
     "metadata": {},
     "output_type": "execute_result"
    }
   ],
   "source": [
    "df = pd.DataFrame(app_train['AMT_INCOME_TOTAL'])\n",
    "df[0:10]"
   ]
  },
  {
   "cell_type": "code",
   "execution_count": 17,
   "metadata": {},
   "outputs": [
    {
     "data": {
      "text/html": [
       "<div>\n",
       "<style scoped>\n",
       "    .dataframe tbody tr th:only-of-type {\n",
       "        vertical-align: middle;\n",
       "    }\n",
       "\n",
       "    .dataframe tbody tr th {\n",
       "        vertical-align: top;\n",
       "    }\n",
       "\n",
       "    .dataframe thead th {\n",
       "        text-align: right;\n",
       "    }\n",
       "</style>\n",
       "<table border=\"1\" class=\"dataframe\">\n",
       "  <thead>\n",
       "    <tr style=\"text-align: right;\">\n",
       "      <th></th>\n",
       "      <th>AMT_INCOME_TOTAL</th>\n",
       "    </tr>\n",
       "  </thead>\n",
       "  <tbody>\n",
       "    <tr>\n",
       "      <th>count</th>\n",
       "      <td>10.000000</td>\n",
       "    </tr>\n",
       "    <tr>\n",
       "      <th>mean</th>\n",
       "      <td>167400.000000</td>\n",
       "    </tr>\n",
       "    <tr>\n",
       "      <th>std</th>\n",
       "      <td>88660.024814</td>\n",
       "    </tr>\n",
       "    <tr>\n",
       "      <th>min</th>\n",
       "      <td>67500.000000</td>\n",
       "    </tr>\n",
       "    <tr>\n",
       "      <th>25%</th>\n",
       "      <td>114750.000000</td>\n",
       "    </tr>\n",
       "    <tr>\n",
       "      <th>50%</th>\n",
       "      <td>135000.000000</td>\n",
       "    </tr>\n",
       "    <tr>\n",
       "      <th>75%</th>\n",
       "      <td>194625.000000</td>\n",
       "    </tr>\n",
       "    <tr>\n",
       "      <th>max</th>\n",
       "      <td>360000.000000</td>\n",
       "    </tr>\n",
       "  </tbody>\n",
       "</table>\n",
       "</div>"
      ],
      "text/plain": [
       "       AMT_INCOME_TOTAL\n",
       "count         10.000000\n",
       "mean      167400.000000\n",
       "std        88660.024814\n",
       "min        67500.000000\n",
       "25%       114750.000000\n",
       "50%       135000.000000\n",
       "75%       194625.000000\n",
       "max       360000.000000"
      ]
     },
     "execution_count": 17,
     "metadata": {},
     "output_type": "execute_result"
    }
   ],
   "source": [
    "#df['AMT_INCOME_TOTAL'].sum()\n",
    "df[0:10].describe()"
   ]
  },
  {
   "cell_type": "code",
   "execution_count": 25,
   "metadata": {},
   "outputs": [
    {
     "data": {
      "image/png": "[encoded data removed]",
      "text/plain": [
       "<Figure size 432x288 with 1 Axes>"
      ]
     },
     "metadata": {
      "needs_background": "light"
     },
     "output_type": "display_data"
    }
   ],
   "source": [
    "x = np.random.normal(size = 1000)\n",
    "plt.hist(x, normed=True, bins=30)\n",
    "plt.ylabel('Probability');"
   ]
  },
  {
   "cell_type": "markdown",
   "metadata": {},
   "source": [
    "    matplotlib.pyplot.hist(  \n",
    "    x, bins=10, range=None, normed=False,   \n",
    "    weights=None, cumulative=False, bottom=None,   \n",
    "    histtype=u'bar', align=u'mid', orientation=u'vertical',   \n",
    "    rwidth=None, log=False, color=None, label=None, stacked=False,   \n",
    "    hold=None, **kwargs)  \n",
    "    \n",
    "    https://www.cnblogs.com/python-life/articles/6084059.html\n",
    "    https://realpython.com/python-histograms/"
   ]
  },
  {
   "cell_type": "code",
   "execution_count": 59,
   "metadata": {},
   "outputs": [
    {
     "data": {
      "text/plain": [
       "Text(0.5, 1.0, 'Histogram')"
      ]
     },
     "execution_count": 59,
     "metadata": {},
     "output_type": "execute_result"
    },
    {
     "data": {
      "image/png": "[encoded data removed]",
      "text/plain": [
       "<Figure size 432x288 with 1 Axes>"
      ]
     },
     "metadata": {
      "needs_background": "light"
     },
     "output_type": "display_data"
    }
   ],
   "source": [
    "df[0:1000].hist(bins=20, rwidth=0.9) #畫直方圖\n",
    "plt.ylabel('Count')\n",
    "plt.xlabel('Salary')\n",
    "plt.title('Histogram')\n",
    "#plt.hist(df[0:10], density=True, bins=30)\n",
    "#plt.show()"
   ]
  },
  {
   "cell_type": "code",
   "execution_count": 50,
   "metadata": {},
   "outputs": [
    {
     "data": {
      "image/png": "[encoded data removed]",
      "text/plain": [
       "<Figure size 432x288 with 1 Axes>"
      ]
     },
     "metadata": {
      "needs_background": "light"
     },
     "output_type": "display_data"
    }
   ],
   "source": [
    "#範例\n",
    "size, scale = 1000, 10\n",
    "commutes = pd.Series(np.random.gamma(scale, size=size) ** 1.5)\n",
    "\n",
    "commutes.plot.hist(grid=True, bins=20, rwidth=0.9,\n",
    "                   color='#607c8e')\n",
    "plt.title('Commute Times for 1,000 Commuters')\n",
    "plt.xlabel('Counts')\n",
    "plt.ylabel('Commute Time')\n",
    "plt.grid(axis='y', alpha=0.75)"
   ]
  },
  {
   "cell_type": "code",
   "execution_count": null,
   "metadata": {},
   "outputs": [],
   "source": []
  }
 ],
 "metadata": {
  "kernelspec": {
   "display_name": "Python 3",
   "language": "python",
   "name": "python3"
  },
  "language_info": {
   "codemirror_mode": {
    "name": "ipython",
    "version": 3
   },
   "file_extension": ".py",
   "mimetype": "text/x-python",
   "name": "python",
   "nbconvert_exporter": "python",
   "pygments_lexer": "ipython3",
   "version": "3.7.3"
  }
 },
 "nbformat": 4,
 "nbformat_minor": 2
}
